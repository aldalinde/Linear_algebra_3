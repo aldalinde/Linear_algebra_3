{
 "cells": [
  {
   "cell_type": "markdown",
   "metadata": {
    "colab_type": "text",
    "id": "Wg1dayOgCGxK"
   },
   "source": [
    "# Урок 5"
   ]
  },
  {
   "cell_type": "markdown",
   "metadata": {
    "colab_type": "text",
    "id": "6PJL0hfnCGxS"
   },
   "source": [
    "# Линейные преобразования"
   ]
  },
  {
   "cell_type": "markdown",
   "metadata": {
    "colab_type": "text",
    "id": "qyU0wiO2CG2Q"
   },
   "source": [
    "## Практическое задание"
   ]
  },
  {
   "cell_type": "markdown",
   "metadata": {
    "colab_type": "text",
    "id": "sNOgFRFrCG2S"
   },
   "source": [
    "__1.__ __Найти собственные векторы и собственные значения для линейного оператора, заданного матрицей__\n",
    "\n",
    "$$A=\\begin{pmatrix}\n",
    "-1 & -6\\\\ \n",
    "2 & 6\n",
    "\\end{pmatrix}.$$"
   ]
  },
  {
   "cell_type": "markdown",
   "metadata": {},
   "source": [
    "$$\\begin{vmatrix}\n",
    "-1-\\lambda & -6\\\\ \n",
    "2 & 6-\\lambda\n",
    "\\end{vmatrix}$$\n",
    "$$(-1-\\lambda)(6-\\lambda) + 12 = 0$$\n",
    "$$ \\lambda^2 - 5\\lambda + 6 = 0$$"
   ]
  },
  {
   "cell_type": "markdown",
   "metadata": {},
   "source": [
    "$$\\lambda = \\frac{5\\pm1}{2} => \\lambda_1 = 3, \\lambda_2 = 2$$"
   ]
  },
  {
   "cell_type": "markdown",
   "metadata": {},
   "source": [
    "$$\\begin{pmatrix}\n",
    "-1 & -6\\\\ \n",
    "2 & 6\n",
    "\\end{pmatrix}\n",
    "\\begin{pmatrix}\n",
    "x_1\\\\ \n",
    "x_2\n",
    "\\end{pmatrix} = \n",
    "3\n",
    "\\begin{pmatrix}\n",
    "x_1\\\\ \n",
    "x_2\n",
    "\\end{pmatrix},\n",
    "\\begin{pmatrix}\n",
    "-1 & -6\\\\ \n",
    "2 & 6\n",
    "\\end{pmatrix}\n",
    "\\begin{pmatrix}\n",
    "x_1\\\\ \n",
    "x_2\n",
    "\\end{pmatrix} = \n",
    "2\n",
    "\\begin{pmatrix}\n",
    "x_1\\\\ \n",
    "x_2\n",
    "\\end{pmatrix}\n",
    "$$"
   ]
  },
  {
   "cell_type": "markdown",
   "metadata": {},
   "source": [
    "1) \n",
    "$$\\begin{cases}\n",
    "-x_1 - 6x_2 = 3x_1\\\\ \n",
    "2x_1+6x_2 = 3x_2\n",
    "\\end{cases}\n",
    "\\Rightarrow\n",
    "\\begin{cases}\n",
    "6x_2 = -4x_1\\\\ \n",
    "3x_2 = -2x_1\n",
    "\\end{cases}\n",
    "\\Rightarrow\n",
    "x_1 = -\\frac{3}{2}x_2.$$\n",
    "\n",
    "for ex. $x = \n",
    "\\begin{pmatrix}\n",
    "-\\frac{3}{2}\\\\ \n",
    "1\n",
    "\\end{pmatrix}\n",
    "\\Rightarrow\n",
    "\\begin{pmatrix}\n",
    "-1 & -6\\\\ \n",
    "2 & 6\n",
    "\\end{pmatrix}\n",
    "\\begin{pmatrix}\n",
    "-\\frac{3}{2}\\\\ \n",
    "1\n",
    "\\end{pmatrix}=\n",
    "\\begin{pmatrix}\n",
    "-\\frac{9}{2}\\\\ \n",
    "\\frac{6}{2}\n",
    "\\end{pmatrix}=\n",
    "\\begin{pmatrix}\n",
    "-\\frac{3}{2}\\\\ \n",
    "1\n",
    "\\end{pmatrix}3$"
   ]
  },
  {
   "cell_type": "markdown",
   "metadata": {},
   "source": [
    "2) \n",
    "$$\\begin{cases}\n",
    "-x_1 - 6x_2 = 2x_1\\\\ \n",
    "2x_1+6x_2 = 2x_2\n",
    "\\end{cases}\n",
    "\\Rightarrow\n",
    "x_1 = -2x_2.$$\n",
    "for ex. $ x = \n",
    "\\begin{pmatrix}\n",
    "2\\\\ \n",
    "-1\n",
    "\\end{pmatrix}\n",
    "\\Rightarrow\n",
    "\\begin{pmatrix}\n",
    "-1 & -6\\\\ \n",
    "2 & 6\n",
    "\\end{pmatrix}\n",
    "\\begin{pmatrix}\n",
    "2\\\\ \n",
    "-1\n",
    "\\end{pmatrix}=\n",
    "\\begin{pmatrix}\n",
    "-2+6\\\\ \n",
    "4-6\n",
    "\\end{pmatrix}=\n",
    "\\begin{pmatrix}\n",
    "4\\\\ \n",
    "-2\n",
    "\\end{pmatrix}=\n",
    "\\begin{pmatrix}\n",
    "2\\\\ \n",
    "-1\n",
    "\\end{pmatrix}2\n",
    "$"
   ]
  },
  {
   "cell_type": "markdown",
   "metadata": {},
   "source": [
    "Для линейного оператора А \n",
    "- при собственном значении $\\lambda_1 = 3$ векторы, чтобы являться собственными векторами, должны удовлетворять условию $x_1 = -\\frac{3}{2}x_2$;<br>\n",
    "- при собственном значении $\\lambda_2 = 2$ векторы, чтобы являться собственными векторами, должны удовлетворять условию  $x_1 = -2x_2$"
   ]
  },
  {
   "cell_type": "markdown",
   "metadata": {},
   "source": [
    "__2.__ __Дан оператор поворота на 180 градусов, задаваемый матрицей__\n",
    "\n",
    "$$A=\\begin{pmatrix}\n",
    "-1 & 0\\\\ \n",
    "0 & -1\n",
    "\\end{pmatrix}.$$\n",
    "\n",
    "Показать, что __любой__ вектор является для него собственным."
   ]
  },
  {
   "cell_type": "markdown",
   "metadata": {},
   "source": [
    "$$(-1-\\lambda)^2 = 0$$\n",
    "$$\\lambda = -1$$"
   ]
  },
  {
   "cell_type": "markdown",
   "metadata": {},
   "source": [
    "$Ay= \\lambda y, \n",
    "\\begin{pmatrix}\n",
    "-1 & 0\\\\ \n",
    "0 & -1\n",
    "\\end{pmatrix}\n",
    "\\begin{pmatrix}\n",
    "y_1\\\\ \n",
    "y_2\n",
    "\\end{pmatrix} = -1\n",
    "\\begin{pmatrix}\n",
    "y_1\\\\ \n",
    "y_2\n",
    "\\end{pmatrix}\n",
    "\\Rightarrow\n",
    "\\begin{cases}\n",
    "-1y_1 = -1y_1\\\\ \n",
    "-1y_2 = -1y_2\n",
    "\\end{cases}\n",
    "$\n",
    "верно при любых значениях $y_1$ и $y_2$"
   ]
  },
  {
   "cell_type": "markdown",
   "metadata": {},
   "source": [
    "__3.__ __Пусть линейный оператор задан матрицей__\n",
    "\n",
    "$$A=\\begin{pmatrix}\n",
    "1 & 1\\\\ \n",
    "-1 & 3\n",
    "\\end{pmatrix}.$$\n",
    "\n",
    "Установить, является ли вектор $x=(1,1)$ собственным вектором этого линейного оператора."
   ]
  },
  {
   "cell_type": "markdown",
   "metadata": {},
   "source": [
    "$\\begin{pmatrix}\n",
    "1 & 1\\\\ \n",
    "-1 & 3\n",
    "\\end{pmatrix}\n",
    "\\begin{pmatrix}\n",
    "1 \\\\ \n",
    "1\n",
    "\\end{pmatrix}=\n",
    "\\begin{pmatrix}\n",
    "2 \\\\ \n",
    "2\n",
    "\\end{pmatrix} = 2x\n",
    ".$\n",
    "Bектор $x=(1,1)$ является собственным вектором этого линейного оператора"
   ]
  },
  {
   "cell_type": "markdown",
   "metadata": {},
   "source": [
    "__4.__ __Пусть линейный оператор задан матрицей__\n",
    "\n",
    "$$A=\\begin{pmatrix}\n",
    "0 & 3 & 0\\\\ \n",
    "3 & 0 & 0\\\\\n",
    "0 & 0 & 3\n",
    "\\end{pmatrix}.$$\n",
    "\n",
    "Установить, является ли вектор $x=(3, -3, -4)$ собственным вектором этого линейного оператора."
   ]
  },
  {
   "cell_type": "markdown",
   "metadata": {},
   "source": [
    "$Ax = \\lambda x,\n",
    "\\begin{pmatrix}\n",
    "0 & 3 & 0\\\\ \n",
    "3 & 0 & 0\\\\\n",
    "0 & 0 & 3\n",
    "\\end{pmatrix}\n",
    "\\begin{pmatrix}\n",
    "3\\\\ \n",
    "-3\\\\\n",
    "-4\n",
    "\\end{pmatrix} =\n",
    "\\begin{pmatrix}\n",
    "-9\\\\ \n",
    "9\\\\\n",
    "12\n",
    "\\end{pmatrix}\n",
    "\\Rightarrow\n",
    "\\begin{cases}\n",
    "\\lambda = -3\\\\ \n",
    "\\lambda = -3\\\\ \n",
    "\\lambda = 3\n",
    "\\end{cases}\n",
    "$<br> Вектор $x=(3, -3, -4)$ не является собственным вектором этого линейного оператора"
   ]
  },
  {
   "cell_type": "markdown",
   "metadata": {},
   "source": []
  }
 ],
 "metadata": {
  "colab": {
   "collapsed_sections": [
    "u60X7ANcCG2V"
   ],
   "name": "Lesson_5-REVISED.ipynb",
   "provenance": []
  },
  "kernelspec": {
   "display_name": "Python 3",
   "language": "python",
   "name": "python3"
  },
  "language_info": {
   "codemirror_mode": {
    "name": "ipython",
    "version": 3
   },
   "file_extension": ".py",
   "mimetype": "text/x-python",
   "name": "python",
   "nbconvert_exporter": "python",
   "pygments_lexer": "ipython3",
   "version": "3.7.1"
  }
 },
 "nbformat": 4,
 "nbformat_minor": 1
}
